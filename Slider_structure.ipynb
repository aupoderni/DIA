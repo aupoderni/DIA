{
 "cells": [
  {
   "cell_type": "markdown",
   "id": "b2b73b7e",
   "metadata": {},
   "source": [
    "Training parameters (from 'source/parameters.py'):"
   ]
  },
  {
   "cell_type": "code",
   "execution_count": null,
   "id": "979b6180",
   "metadata": {},
   "outputs": [],
   "source": [
    "training = {\n",
    "    'window_width' : 20, #[5,10,20,50,200]\n",
    "    'kernel_num' : 20, #[20,40,80,200], #40\n",
    "    'epochs' :  60, \n",
    "    'batch_size':  1, #[16, 32, 64, 256], #32\n",
    "    'learning_rate' : 0.001, #ups 0.001\n",
    "    'target_from_theo_pept' : 0.005,\n",
    "    'topN': 5000,\n",
    "    # 'open_window_search' : False,\n",
    "    'print_info' : True,\n",
    "    # 'aux_peak_type' : True,\n",
    "    'clip_value': 1,\n",
    "    'layer_num': 2, #[2,3,5,10,20] #2\n",
    "    'cand_from_search_qval' : 0.005, \n",
    "    'topN_exp' : 0,\n",
    "    'print_info': True,\n",
    "    'printing_tick': 1 # print learning update after this many epochs\n",
    "}"
   ]
  },
  {
   "cell_type": "markdown",
   "id": "0b1d6349",
   "metadata": {},
   "source": [
    "Slider version:"
   ]
  },
  {
   "cell_type": "code",
   "execution_count": null,
   "id": "d51828c1",
   "metadata": {},
   "outputs": [],
   "source": [
    "class DeepConv(torch.nn.Module):\n",
    "    \"\"\"\n",
    "    Make a convolution layer with untrainable center explicitly.\n",
    "    \"\"\"\n",
    "    def __init__(self,window_width, kernel_num, activation_fnc=torch.nn.functional.relu, spectrum_size=None, torch_device=None, torch_type=None):\n",
    "        super(DeepConv,self).__init__()\n",
    "        self.__class__.__name__ += '_'+activation_fnc.__class__.__name__\n",
    "        self.window_width = window_width\n",
    "        self.kernel_num = kernel_num\n",
    "        bias = True\n",
    "        self.sigmoid = torch.nn.Sigmoid()\n",
    "    \n",
    "        in_channels = 1\n",
    "        \n",
    "        self.layer1 = torch.nn.Sequential(\n",
    "            torch.nn.BatchNorm2d(num_features=1), # num_features = channels\n",
    "            torch.nn.Conv2d(in_channels, self.kernel_num, kernel_size=(3, self.window_width*2+1), padding=(1, self.window_width), bias=bias),\n",
    "            torch.nn.BatchNorm2d(num_features=self.kernel_num),\n",
    "            torch.nn.Sigmoid(),\n",
    "            )\n",
    "            \n",
    "        self.layer2 = torch.nn.Sequential(\n",
    "            torch.nn.Conv2d(self.kernel_num, 1, 1, padding=0, bias=bias),\n",
    "            torch.nn.BatchNorm2d(num_features=1),\n",
    "            )\n",
    "        self.bias =  torch.nn.Parameter(torch.tensor(5.0, requires_grad=True))# nn.Parameters(torch.zeros(1))\n",
    "        self.offset = torch.tensor(0.0/self.kernel_num)\n",
    "\n",
    "    def forward(self, x):\n",
    "        out = self.layer1(x) - self.offset   # shape: [batch_size, channel, spectrum_bin]\n",
    "        out = self.layer2(out)\n",
    "        #pooling = torch.nn.MaxPool2d((out.shape[2], 1), stride=1)\n",
    "        #out = pooling(out) - self.offset - self.bias\n",
    "        out = out - self.offset - self.bias\n",
    "        return self.sigmoid(out)\n",
    "    \n",
    "    def clip_grads(self, clip_value=0.0001):\n",
    "        # for layer in self.layers:\n",
    "        self.layer1[0].weight.grad.data.clamp_(min=-clip_value, max=clip_value)\n",
    "        self.layer2[0].weight.grad.data.clamp_(min=-clip_value, max=clip_value)\n",
    "       \n",
    "            \n",
    "class BCELossWeight(torch.nn.BCELoss):\n",
    "    \"\"\"\n",
    "    Make a convolution layer with untrainable center explicitly.\n",
    "    \"\"\"\n",
    "    def __init__(self,pos_weight):\n",
    "        super(torch.nn.BCELoss,self).__init__()\n",
    "        # self.__class__.__name__ += '_'+\"_pos_weight\"\n",
    "        self.pos_weight = pos_weight\n",
    "        self.tiny = 1e-20\n",
    "      \n",
    "    def forward(self, estimated, target):\n",
    "        cost = self.pos_weight*target*torch.log(estimated + self.tiny) + (1-target)*torch.log(1-estimated + self.tiny)\n",
    "\n",
    "        return -cost.mean()"
   ]
  },
  {
   "cell_type": "markdown",
   "id": "9537d571",
   "metadata": {},
   "source": [
    "Learning curve:"
   ]
  },
  {
   "cell_type": "code",
   "execution_count": 1,
   "id": "6f9fec60",
   "metadata": {},
   "outputs": [
    {
     "data": {
      "image/png": "[encoded data removed]",
      "text/plain": [
       "<PIL.PngImagePlugin.PngImageFile image mode=RGBA size=640x480 at 0x224767ABD90>"
      ]
     },
     "metadata": {},
     "output_type": "display_data"
    }
   ],
   "source": [
    "from PIL import Image\n",
    "learning_curve = Image.open(r\"c:\\\\Users\\poder\\lab\\Slider_DIA\\results\\60_ep_20_ww_20_kn_0.001_lr.png\")\n",
    "display(learning_curve)"
   ]
  },
  {
   "cell_type": "code",
   "execution_count": null,
   "id": "ae6fd059",
   "metadata": {},
   "outputs": [],
   "source": []
  }
 ],
 "metadata": {
  "kernelspec": {
   "display_name": "Python 3 (ipykernel)",
   "language": "python",
   "name": "python3"
  },
  "language_info": {
   "codemirror_mode": {
    "name": "ipython",
    "version": 3
   },
   "file_extension": ".py",
   "mimetype": "text/x-python",
   "name": "python",
   "nbconvert_exporter": "python",
   "pygments_lexer": "ipython3",
   "version": "3.9.12"
  }
 },
 "nbformat": 4,
 "nbformat_minor": 5
}
