{
 "cells": [
  {
   "cell_type": "code",
   "execution_count": 1,
   "id": "9a3cceea",
   "metadata": {},
   "outputs": [],
   "source": [
    "import sys\n",
    "import Spytrometer\n",
    "from datetime import datetime\n",
    "import pandas as pd\n",
    "import numpy as np\n",
    "import seaborn as sns\n",
    "import matplotlib.pyplot as plt \n",
    "%load_ext autoreload\n",
    "%autoreload 2\n",
    "%matplotlib inline"
   ]
  },
  {
   "cell_type": "code",
   "execution_count": 2,
   "id": "a26de944",
   "metadata": {},
   "outputs": [],
   "source": [
    "# Initialize pycomet object\n",
    "spy = Spytrometer.Spytrometer(max_peak=2000)\n",
    "bin_width = 0.02\n",
    "bin_offset = 0\n",
    "\n",
    "spy.tolarence_window = 10\n",
    "spy.tolerance_type = 'PPM'\n",
    "spy.max_theo_pept_peak_charge = 3\n",
    "spy.remove_precursor_peak = True\n",
    "spy.remove_precursor_tolerance = 1.5\n",
    "spy.missed_cleavages = 0\n",
    "spy.min_pept_len = 7\n",
    "spy.unique_peptides = 1"
   ]
  },
  {
   "cell_type": "code",
   "execution_count": 3,
   "id": "54f7ed15",
   "metadata": {},
   "outputs": [
    {
     "name": "stdout",
     "output_type": "stream",
     "text": [
      "Loading spectrum data...\n",
      "Done. Time (h:m:s):\t0:00:48.430796\n"
     ]
    }
   ],
   "source": [
    "# Load data\n",
    "start_time = datetime.now()\n",
    "spy.load_dia_data('c:\\\\Users\\\\poder\\\\crux-demo\\\\Slider_DIA\\\\e01306.mzML', precursor_mass = 410.4365)\n",
    "spy.load_fasta('c:\\\\Users\\\\poder\\\\crux-demo\\\\cerevisiae_orf_trans_all.fasta')"
   ]
  },
  {
   "cell_type": "code",
   "execution_count": 4,
   "id": "2cad6817",
   "metadata": {},
   "outputs": [
    {
     "name": "stdout",
     "output_type": "stream",
     "text": [
      "Protein digestion done. Time (h:m:s):\t0:01:05.946842\n",
      "Number of proteins:\t6717\n",
      "Number of spectra:\t1790\n",
      "Number of peptides:\t134349\n"
     ]
    }
   ],
   "source": [
    "for spectrum_id, spectrum in enumerate(spy.spectrum_collection):\n",
    "    spy.discretize_spectrum(spectrum_id)\n",
    "    spy.normalize_regions(spectrum_id)\n",
    "for i in range(len(spy.protein_collection)):\n",
    "    try:\n",
    "        spy.generate_peptides(i)\n",
    "    except:\n",
    "        continue\n",
    "spy.sort_peptides()    \n",
    "spy.sort_spectra()\n",
    "spy.set_candidate_peptides()      \n",
    "print(\"Protein digestion done. Time (h:m:s):\\t\"+str(datetime.now() - start_time))\n",
    "print(\"Number of proteins:\\t%d\"%(len(spy.protein_collection)))\n",
    "print(\"Number of spectra:\\t%d\"%(len(spy.spectrum_collection)))\n",
    "print(\"Number of peptides:\\t%d\"%(len(spy.peptide_collection)))"
   ]
  },
  {
   "cell_type": "code",
   "execution_count": 5,
   "id": "61c8dfa3",
   "metadata": {},
   "outputs": [
    {
     "name": "stdout",
     "output_type": "stream",
     "text": [
      "180\n"
     ]
    }
   ],
   "source": [
    "# Load train_data obtained by percolator\n",
    "data_percolator = pd.read_csv('c:\\\\Users\\\\poder\\\\crux-demo\\\\Slider_DIA\\\\train_data_percolator.csv')\n",
    "print(len(data_percolator))"
   ]
  },
  {
   "cell_type": "code",
   "execution_count": 6,
   "id": "dcb13137",
   "metadata": {},
   "outputs": [],
   "source": [
    "# Set the index of pair (scan_id, sequence) from train_data_percolator.csv which you want to visualize\n",
    "percolator_idx = -1"
   ]
  },
  {
   "cell_type": "code",
   "execution_count": 7,
   "id": "b46391af",
   "metadata": {},
   "outputs": [
    {
     "name": "stdout",
     "output_type": "stream",
     "text": [
      "60477 DAGQIVGLNVLR\n"
     ]
    }
   ],
   "source": [
    "percolator_scan_id = data_percolator.iloc[percolator_idx].scan\n",
    "percolator_sequence = data_percolator.iloc[percolator_idx].sequence\n",
    "print(percolator_scan_id, percolator_sequence)"
   ]
  },
  {
   "cell_type": "code",
   "execution_count": 8,
   "id": "2e49cf4b",
   "metadata": {},
   "outputs": [
    {
     "name": "stdout",
     "output_type": "stream",
     "text": [
      "58702\n"
     ]
    }
   ],
   "source": [
    "# Search for the index of percolator_sequence in spy.peptide_collection\n",
    "for i in range(len(spy.peptide_collection)):\n",
    "    if spy.peptide_collection[i].peptide_seq == percolator_sequence:\n",
    "        peptide_idx = i\n",
    "print(peptide_idx)"
   ]
  },
  {
   "cell_type": "code",
   "execution_count": 9,
   "id": "e35cd981",
   "metadata": {},
   "outputs": [
    {
     "name": "stdout",
     "output_type": "stream",
     "text": [
      "1475\n"
     ]
    }
   ],
   "source": [
    "# Search for the index of percolator_scan_id in spy.spectrum_collection\n",
    "spectrum_idx = spy.get_spectrum_by_scan(percolator_scan_id - 1)\n",
    "print(spectrum_idx)"
   ]
  },
  {
   "cell_type": "code",
   "execution_count": 10,
   "id": "b160c996",
   "metadata": {},
   "outputs": [
    {
     "name": "stdout",
     "output_type": "stream",
     "text": [
      "[{'b': [116, 187, 244, 372, 485, 584, 641, 754, 868, 967, 1080], 'y': [175, 288, 387, 501, 614, 671, 770, 883, 1011, 1068, 1139]}, {'b': [59, 94, 123, 187, 243, 293, 321, 378, 435, 484, 541], 'y': [88, 145, 194, 251, 308, 336, 386, 442, 506, 535, 570]}, {'b': [39, 63, 82, 125, 162, 195, 214, 252, 290, 323, 361], 'y': [59, 97, 130, 168, 205, 224, 257, 295, 338, 357, 380]}]\n"
     ]
    }
   ],
   "source": [
    "# Get peaks for PeptideObj\n",
    "spy.calculate_peptide_fragmentation(peptide_idx)\n",
    "print(spy.peptide_collection[peptide_idx].peaks)"
   ]
  },
  {
   "cell_type": "code",
   "execution_count": 12,
   "id": "8d4bb5d4",
   "metadata": {},
   "outputs": [
    {
     "name": "stdout",
     "output_type": "stream",
     "text": [
      "Seq:DAGQIVGLNVLR  Charge:1   Mass: 1253.7091547\n"
     ]
    }
   ],
   "source": [
    "spy.plot_spectrum(spectrum_idx, filename=\"Plot_{}\".format(spectrum_idx), font_size=18, show_annotation=True, peptide_seq=spy.peptide_collection[peptide_idx])"
   ]
  },
  {
   "cell_type": "code",
   "execution_count": null,
   "id": "40ff94d2",
   "metadata": {},
   "outputs": [],
   "source": []
  }
 ],
 "metadata": {
  "kernelspec": {
   "display_name": "Python 3 (ipykernel)",
   "language": "python",
   "name": "python3"
  },
  "language_info": {
   "codemirror_mode": {
    "name": "ipython",
    "version": 3
   },
   "file_extension": ".py",
   "mimetype": "text/x-python",
   "name": "python",
   "nbconvert_exporter": "python",
   "pygments_lexer": "ipython3",
   "version": "3.9.12"
  }
 },
 "nbformat": 4,
 "nbformat_minor": 5
}
