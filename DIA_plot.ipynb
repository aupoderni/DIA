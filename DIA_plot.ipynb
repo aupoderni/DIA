{
 "cells": [
  {
   "cell_type": "code",
   "execution_count": 10,
   "id": "3f188321",
   "metadata": {},
   "outputs": [
    {
     "name": "stdout",
     "output_type": "stream",
     "text": [
      "The autoreload extension is already loaded. To reload it, use:\n",
      "  %reload_ext autoreload\n"
     ]
    }
   ],
   "source": [
    "import sys\n",
    "sys.path.append('c:\\\\Users\\\\poder\\\\lab\\\\DIA_plot\\\\')\n",
    "import Spytrometer\n",
    "from datetime import datetime\n",
    "%load_ext autoreload\n",
    "%autoreload 2\n",
    "%matplotlib inline"
   ]
  },
  {
   "cell_type": "code",
   "execution_count": 11,
   "id": "01cb1708",
   "metadata": {},
   "outputs": [],
   "source": [
    "# Initialize pycomet object\n",
    "spy = Spytrometer.Spytrometer(max_peak=2000)\n",
    "#high resolution data: bin_width = 0.02, bin_offset = 0"
   ]
  },
  {
   "cell_type": "code",
   "execution_count": 12,
   "id": "6b0e7467",
   "metadata": {},
   "outputs": [
    {
     "name": "stdout",
     "output_type": "stream",
     "text": [
      "Loading spectrum data...\n",
      "Done. Time (h:m:s):\t0:00:51.488505\n"
     ]
    }
   ],
   "source": [
    "# Load data\n",
    "start_time = datetime.now()\n",
    "spy.load_dia_data('c:\\\\Users\\\\poder\\\\lab\\\\DIA_plot\\\\e01306.mzML', precursor_mass = 410.4365)\n"
   ]
  },
  {
   "cell_type": "code",
   "execution_count": 13,
   "id": "5958a6da",
   "metadata": {},
   "outputs": [
    {
     "name": "stdout",
     "output_type": "stream",
     "text": [
      "Protein digestion done. Time (h:m:s):\t0:02:39.776474\n",
      "Number of spectra:\t1790\n"
     ]
    }
   ],
   "source": [
    "for spectrum_id, spectrum in enumerate(spy.spectrum_collection):\n",
    "    spy.discretize_spectrum(spectrum_id)\n",
    "    spy.normalize_regions(spectrum_id)\n",
    "\n",
    "    \n",
    "spy.sort_spectra()\n",
    "   \n",
    "print(\"Protein digestion done. Time (h:m:s):\\t\"+str(datetime.now() - start_time))\n",
    "print(\"Number of spectra:\\t%d\"%(len(spy.spectrum_collection)))"
   ]
  },
  {
   "cell_type": "code",
   "execution_count": 14,
   "id": "555b36a3",
   "metadata": {},
   "outputs": [],
   "source": [
    "for spectrum_id in range(3):\n",
    "    spy.plot_spectrum(spectrum_id, filename=\"DIA_{}_full\".format(spectrum_id), font_size=42, show_annotation=False)"
   ]
  },
  {
   "cell_type": "code",
   "execution_count": 15,
   "id": "9ce828da",
   "metadata": {},
   "outputs": [],
   "source": [
    "spectrum_collection_concat = []\n",
    "for i in range(len(spy.spectrum_collection)):\n",
    "    spectrum_collection_concat.append(spy.spectrum_collection[i].spectrum_array)"
   ]
  },
  {
   "cell_type": "code",
   "execution_count": 19,
   "id": "9de40c2f",
   "metadata": {},
   "outputs": [
    {
     "data": {
      "text/plain": [
       "<Figure size 72000x128880 with 0 Axes>"
      ]
     },
     "metadata": {},
     "output_type": "display_data"
    }
   ],
   "source": [
    "import matplotlib.pyplot as plt \n",
    "\n",
    "fig, ax = plt.subplots(nrows=len(spectrum_collection_concat), ncols=1, figsize=(1000, len(spectrum_collection_concat)))\n",
    "for i in range(len(spectrum_collection_concat)):\n",
    "    ax[i].pcolormesh([spectrum_collection_concat[i]], cmap='Greys', shading='flat')\n",
    "fig.savefig(\"hist_1.pdf\", bbox_inches=\"tight\")\n",
    "fig.clf()"
   ]
  }
 ],
 "metadata": {
  "kernelspec": {
   "display_name": "Python 3 (ipykernel)",
   "language": "python",
   "name": "python3"
  },
  "language_info": {
   "codemirror_mode": {
    "name": "ipython",
    "version": 3
   },
   "file_extension": ".py",
   "mimetype": "text/x-python",
   "name": "python",
   "nbconvert_exporter": "python",
   "pygments_lexer": "ipython3",
   "version": "3.9.12"
  }
 },
 "nbformat": 4,
 "nbformat_minor": 5
}
