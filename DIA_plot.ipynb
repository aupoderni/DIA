{
 "cells": [
  {
   "cell_type": "code",
   "execution_count": 1,
   "id": "3f188321",
   "metadata": {},
   "outputs": [],
   "source": [
    "import sys\n",
    "sys.path.append('c:\\\\Users\\\\poder\\\\lab\\\\DIA_plot\\\\')\n",
    "import Spytrometer\n",
    "from datetime import datetime\n",
    "%load_ext autoreload\n",
    "%autoreload 2\n",
    "%matplotlib inline"
   ]
  },
  {
   "cell_type": "code",
   "execution_count": 2,
   "id": "01cb1708",
   "metadata": {},
   "outputs": [],
   "source": [
    "# Initialize pycomet object\n",
    "spy = Spytrometer.Spytrometer(max_peak=2000)\n",
    "#high resolution data: bin_width = 0.02, bin_offset = 0"
   ]
  },
  {
   "cell_type": "code",
   "execution_count": 3,
   "id": "6b0e7467",
   "metadata": {},
   "outputs": [
    {
     "name": "stdout",
     "output_type": "stream",
     "text": [
      "Loading spectrum data...\n",
      "Done. Time (h:m:s):\t0:00:50.015673\n"
     ]
    }
   ],
   "source": [
    "# Load data\n",
    "start_time = datetime.now()\n",
    "spy.load_dia_data('c:\\\\Users\\\\poder\\\\lab\\\\DIA_plot\\\\e01306.mzML')\n"
   ]
  },
  {
   "cell_type": "code",
   "execution_count": 4,
   "id": "5958a6da",
   "metadata": {},
   "outputs": [
    {
     "name": "stdout",
     "output_type": "stream",
     "text": [
      "Protein digestion done. Time (h:m:s):\t0:00:52.395620\n",
      "Number of spectra:\t1790\n"
     ]
    }
   ],
   "source": [
    "for spectrum_id, spectrum in enumerate(spy.spectrum_collection):\n",
    "    spy.discretize_spectrum(spectrum_id)\n",
    "    spy.normalize_regions(spectrum_id)\n",
    "\n",
    "    \n",
    "spy.sort_spectra()\n",
    "   \n",
    "print(\"Protein digestion done. Time (h:m:s):\\t\"+str(datetime.now() - start_time))\n",
    "print(\"Number of spectra:\\t%d\"%(len(spy.spectrum_collection)))"
   ]
  },
  {
   "cell_type": "code",
   "execution_count": 5,
   "id": "555b36a3",
   "metadata": {},
   "outputs": [],
   "source": [
    "for spectrum_id in range(3):\n",
    "    spy.plot_spectrum(spectrum_id, filename=\"DIA_{}_full\".format(spectrum_id), font_size=42, show_annotation=False)"
   ]
  },
  {
   "cell_type": "code",
   "execution_count": 18,
   "id": "72209fd5",
   "metadata": {},
   "outputs": [
    {
     "data": {
      "text/plain": [
       "<Figure size 72000x720 with 0 Axes>"
      ]
     },
     "metadata": {},
     "output_type": "display_data"
    }
   ],
   "source": [
    "import matplotlib.pyplot as plt \n",
    "\n",
    "fig, ax = plt.subplots(nrows=10, ncols=1, figsize=(1000, 10))\n",
    "plt.subplots_adjust(hspace=0.5)\n",
    "for i in range(10):\n",
    "    ax[i].pcolormesh([spy.spectrum_collection[i].spectrum_array], cmap='Greys', shading='flat')\n",
    "fig.savefig(\"hist_1.pdf\", bbox_inches=\"tight\")\n",
    "fig.clf()"
   ]
  },
  {
   "cell_type": "code",
   "execution_count": null,
   "id": "9de40c2f",
   "metadata": {},
   "outputs": [],
   "source": []
  }
 ],
 "metadata": {
  "kernelspec": {
   "display_name": "Python 3 (ipykernel)",
   "language": "python",
   "name": "python3"
  },
  "language_info": {
   "codemirror_mode": {
    "name": "ipython",
    "version": 3
   },
   "file_extension": ".py",
   "mimetype": "text/x-python",
   "name": "python",
   "nbconvert_exporter": "python",
   "pygments_lexer": "ipython3",
   "version": "3.9.12"
  }
 },
 "nbformat": 4,
 "nbformat_minor": 5
}
