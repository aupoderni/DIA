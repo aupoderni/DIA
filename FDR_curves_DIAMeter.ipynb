{
 "cells": [
  {
   "cell_type": "code",
   "execution_count": 4,
   "id": "35568869",
   "metadata": {},
   "outputs": [],
   "source": [
    "import pandas as pd\n",
    "import matplotlib.pyplot as plt\n",
    "import numpy as np"
   ]
  },
  {
   "cell_type": "code",
   "execution_count": 5,
   "id": "0d2b680f",
   "metadata": {},
   "outputs": [
    {
     "data": {
      "text/plain": [
       "0        0.000089\n",
       "6260     0.000089\n",
       "6261     0.000089\n",
       "6262     0.000089\n",
       "6263     0.000089\n",
       "           ...   \n",
       "46931    0.005981\n",
       "46930    0.005981\n",
       "46929    0.005981\n",
       "46940    0.005981\n",
       "46953    0.005981\n",
       "Name: percolator q-value, Length: 46954, dtype: float64"
      ]
     },
     "execution_count": 5,
     "metadata": {},
     "output_type": "execute_result"
    }
   ],
   "source": [
    "df_all = pd.read_csv('percolator_original.txt', sep = '\\t', skipinitialspace=True)\n",
    "df_prec_mass = df_all.loc[(df_all['percolator q-value'] < 0.006)]\n",
    "q_values_original = df_prec_mass.sort_values(by='percolator q-value')['percolator q-value']\n",
    "rank_original = np.arange(1, len(q_values_original) + 1)\n",
    "q_values_original"
   ]
  },
  {
   "cell_type": "code",
   "execution_count": 6,
   "id": "5a602983",
   "metadata": {},
   "outputs": [
    {
     "data": {
      "text/plain": [
       "0        0.000084\n",
       "7135     0.000084\n",
       "7136     0.000084\n",
       "7137     0.000084\n",
       "7138     0.000084\n",
       "           ...   \n",
       "27826    0.005993\n",
       "27825    0.005993\n",
       "27845    0.005993\n",
       "27834    0.005993\n",
       "27846    0.005993\n",
       "Name: percolator q-value, Length: 27847, dtype: float64"
      ]
     },
     "execution_count": 6,
     "metadata": {},
     "output_type": "execute_result"
    }
   ],
   "source": [
    "df_all = pd.read_csv('percolator_old_002_2000.txt', sep = '\\t', skipinitialspace=True)\n",
    "df_prec_mass = df_all.loc[(df_all['percolator q-value'] < 0.006)]\n",
    "q_values_2000_002 = df_prec_mass.sort_values(by='percolator q-value')['percolator q-value']\n",
    "rank_2000_002 = np.arange(1, len(q_values_2000_002) + 1)\n",
    "q_values_2000_002"
   ]
  },
  {
   "cell_type": "code",
   "execution_count": 7,
   "id": "e403349a",
   "metadata": {},
   "outputs": [
    {
     "data": {
      "text/plain": [
       "0        0.000080\n",
       "7767     0.000080\n",
       "7768     0.000080\n",
       "7769     0.000080\n",
       "7770     0.000080\n",
       "           ...   \n",
       "25605    0.005931\n",
       "25609    0.005931\n",
       "25616    0.005970\n",
       "25615    0.005970\n",
       "25617    0.005970\n",
       "Name: percolator q-value, Length: 25618, dtype: float64"
      ]
     },
     "execution_count": 7,
     "metadata": {},
     "output_type": "execute_result"
    }
   ],
   "source": [
    "df_all = pd.read_csv('percolator_2000_005.txt', sep = '\\t', skipinitialspace=True)\n",
    "df_prec_mass = df_all.loc[(df_all['percolator q-value'] < 0.006)]\n",
    "q_values_2000_005 = df_prec_mass.sort_values(by='percolator q-value')['percolator q-value']\n",
    "rank_2000_005 = np.arange(1, len(q_values_2000_005) + 1)\n",
    "q_values_2000_005"
   ]
  },
  {
   "cell_type": "code",
   "execution_count": 8,
   "id": "2f422684",
   "metadata": {},
   "outputs": [
    {
     "data": {
      "text/plain": [
       "0        0.000091\n",
       "6927     0.000091\n",
       "6928     0.000091\n",
       "6929     0.000091\n",
       "6930     0.000091\n",
       "           ...   \n",
       "23254    0.005968\n",
       "23255    0.005968\n",
       "23256    0.005968\n",
       "23247    0.005968\n",
       "23281    0.005968\n",
       "Name: percolator q-value, Length: 23282, dtype: float64"
      ]
     },
     "execution_count": 8,
     "metadata": {},
     "output_type": "execute_result"
    }
   ],
   "source": [
    "df_all = pd.read_csv('percolator_4000_01.txt', sep = '\\t', skipinitialspace=True)\n",
    "df_prec_mass = df_all.loc[(df_all['percolator q-value'] < 0.006)]\n",
    "q_values_4000_01 = df_prec_mass.sort_values(by='percolator q-value')['percolator q-value']\n",
    "rank_4000_01 = np.arange(1, len(q_values_4000_01) + 1)\n",
    "q_values_4000_01"
   ]
  },
  {
   "cell_type": "code",
   "execution_count": 16,
   "id": "fc4d381e",
   "metadata": {},
   "outputs": [
    {
     "data": {
      "text/plain": [
       "<matplotlib.legend.Legend at 0x18a586286a0>"
      ]
     },
     "execution_count": 16,
     "metadata": {},
     "output_type": "execute_result"
    },
    {
     "data": {
      "image/png": "[encoded data removed]",
      "text/plain": [
       "<Figure size 432x288 with 1 Axes>"
      ]
     },
     "metadata": {
      "needs_background": "light"
     },
     "output_type": "display_data"
    }
   ],
   "source": [
    "plt.plot(q_values_original, rank_original, label='original data')\n",
    "plt.plot(q_values_2000_002, rank_2000_002, label='max peak 2000 bin width 0.02')\n",
    "plt.plot(q_values_2000_005, rank_2000_005, label='max peak 2000 bin width 0.05')\n",
    "plt.plot(q_values_4000_01, rank_4000_01, label='max peak 4000 bin width 0.1')\n",
    "plt.legend(loc='lower right')"
   ]
  }
 ],
 "metadata": {
  "kernelspec": {
   "display_name": "Python 3 (ipykernel)",
   "language": "python",
   "name": "python3"
  },
  "language_info": {
   "codemirror_mode": {
    "name": "ipython",
    "version": 3
   },
   "file_extension": ".py",
   "mimetype": "text/x-python",
   "name": "python",
   "nbconvert_exporter": "python",
   "pygments_lexer": "ipython3",
   "version": "3.9.12"
  }
 },
 "nbformat": 4,
 "nbformat_minor": 5
}
